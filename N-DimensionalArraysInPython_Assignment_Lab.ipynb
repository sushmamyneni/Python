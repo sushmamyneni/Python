{
 "cells": [
  {
   "cell_type": "code",
   "execution_count": 80,
   "metadata": {},
   "outputs": [
    {
     "name": "stdout",
     "output_type": "stream",
     "text": [
      "(3, 3, 3, 1)\n",
      "[[[[5.1]\n",
      "   [3.5]\n",
      "   [1.4]]\n",
      "\n",
      "  [[4.9]\n",
      "   [3. ]\n",
      "   [1.4]]\n",
      "\n",
      "  [[4.7]\n",
      "   [3.2]\n",
      "   [1.3]]]\n",
      "\n",
      "\n",
      " [[[3.6]\n",
      "   [1.4]\n",
      "   [0.2]]\n",
      "\n",
      "  [[3.9]\n",
      "   [1.7]\n",
      "   [0.4]]\n",
      "\n",
      "  [[3.4]\n",
      "   [1.4]\n",
      "   [0.3]]]\n",
      "\n",
      "\n",
      " [[[2.9]\n",
      "   [1.4]\n",
      "   [0.2]]\n",
      "\n",
      "  [[3.1]\n",
      "   [1.5]\n",
      "   [0.1]]\n",
      "\n",
      "  [[3.7]\n",
      "   [1.5]\n",
      "   [0.2]]]]\n"
     ]
    }
   ],
   "source": [
    "# Load IRIS data set using the PDS GITHUB Repository.\n",
    "# Using Pandas, numpy and Array manipulation techniques to\n",
    "# create a 3D array splitting on any three columns of the\n",
    "#dataset.\n",
    "\n",
    "import pandas as pd\n",
    "import numpy as np\n",
    "\n",
    "IrisDS = pd.read_csv(\"https://raw.githubusercontent.com/colaberry/Practical-Data-Science/master/Datasets/IRIS/iris.csv\")\n",
    "IrisDS.head(50)\n",
    "\n",
    "A1=np.array(IrisDS.iloc[:3,:3])\n",
    "A2=np.array(IrisDS.iloc[4:7,1:4])\n",
    "A3=np.array(IrisDS.iloc[8:11,1:4])\n",
    "\n",
    "#print(A1)\n",
    "#print(A2)\n",
    "#print(A3)\n",
    "\n",
    "x=np.array(np.atleast_3d(A1,A2,A3))\n",
    "print(x.shape)\n",
    "print(x)\n"
   ]
  },
  {
   "cell_type": "code",
   "execution_count": null,
   "metadata": {},
   "outputs": [],
   "source": []
  }
 ],
 "metadata": {
  "kernelspec": {
   "display_name": "Python 3",
   "language": "python",
   "name": "python3"
  },
  "language_info": {
   "codemirror_mode": {
    "name": "ipython",
    "version": 3
   },
   "file_extension": ".py",
   "mimetype": "text/x-python",
   "name": "python",
   "nbconvert_exporter": "python",
   "pygments_lexer": "ipython3",
   "version": "3.6.4"
  }
 },
 "nbformat": 4,
 "nbformat_minor": 2
}
